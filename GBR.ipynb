{
  "nbformat": 4,
  "nbformat_minor": 0,
  "metadata": {
    "colab": {
      "provenance": [],
      "authorship_tag": "ABX9TyMlnQ4C4H5rY8nOZwTn80Tg",
      "include_colab_link": true
    },
    "kernelspec": {
      "name": "python3",
      "display_name": "Python 3"
    },
    "language_info": {
      "name": "python"
    }
  },
  "cells": [
    {
      "cell_type": "markdown",
      "metadata": {
        "id": "view-in-github",
        "colab_type": "text"
      },
      "source": [
        "<a href=\"https://colab.research.google.com/github/MonikSense/Different-model-codes/blob/main/GBR.ipynb\" target=\"_parent\"><img src=\"https://colab.research.google.com/assets/colab-badge.svg\" alt=\"Open In Colab\"/></a>"
      ]
    },
    {
      "cell_type": "code",
      "execution_count": 1,
      "metadata": {
        "colab": {
          "base_uri": "https://localhost:8080/"
        },
        "id": "pFyfMJ0q6pRl",
        "outputId": "dea631a9-498d-4d97-d209-7ac24633fd59"
      },
      "outputs": [
        {
          "output_type": "stream",
          "name": "stdout",
          "text": [
            "Gradient Boosting - MSE: 0.64\n",
            "Gradient Boosting - R2: 0.95\n"
          ]
        }
      ],
      "source": [
        "# Import necessary libraries\n",
        "import pandas as pd\n",
        "import numpy as np\n",
        "import matplotlib.pyplot as plt\n",
        "from sklearn.model_selection import train_test_split\n",
        "from sklearn.linear_model import LinearRegression\n",
        "from sklearn.ensemble import RandomForestRegressor\n",
        "from sklearn.metrics import mean_squared_error, r2_score\n",
        "from sklearn.metrics import mean_absolute_error\n",
        "from sklearn.linear_model import LinearRegression\n",
        "from sklearn.model_selection import train_test_split\n",
        "from sklearn.metrics import mean_squared_error, r2_score\n",
        "\n",
        "# Load the dataset\n",
        "data = pd.read_csv(\"https://raw.githubusercontent.com/MonikSense/RGO-DIFFERENT-GAS/refs/heads/main/C%20by%20O%20Dataset%20for%20regression.csv\")\n",
        "\n",
        "# Features and target\n",
        "X = data[['Reduction Temp', 'Reduction time (h)']]\n",
        "y = data['C/O']\n",
        "# Step 3: Split the data into training and testing sets\n",
        "X_train, X_test, y_train, y_test = train_test_split(X, y, test_size=0.2, random_state=50)\n",
        "# Fit Random Forest Regressor model\n",
        "from sklearn.ensemble import GradientBoostingRegressor\n",
        "\n",
        "# Fit Gradient Boosting model\n",
        "gb_model = GradientBoostingRegressor(n_estimators=100, random_state=50)\n",
        "gb_model.fit(X_train, y_train)\n",
        "\n",
        "# Predictions\n",
        "y_pred_gb = gb_model.predict(X_test)\n",
        "\n",
        "# Evaluate model\n",
        "mse_gb = mean_squared_error(y_test, y_pred_gb)\n",
        "r2_gb = r2_score(y_test, y_pred_gb)\n",
        "\n",
        "print(f\"Gradient Boosting - MSE: {mse_gb:.2f}\")\n",
        "print(f\"Gradient Boosting - R2: {r2_gb:.2f}\")\n"
      ]
    }
  ]
}